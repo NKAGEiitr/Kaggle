{
 "cells": [
  {
   "cell_type": "code",
   "execution_count": 1,
   "id": "7c8e851a",
   "metadata": {
    "_cell_guid": "b1076dfc-b9ad-4769-8c92-a6c4dae69d19",
    "_uuid": "8f2839f25d086af736a60e9eeb907d3b93b6e0e5",
    "execution": {
     "iopub.execute_input": "2023-11-10T06:15:09.996168Z",
     "iopub.status.busy": "2023-11-10T06:15:09.995503Z",
     "iopub.status.idle": "2023-11-10T06:15:12.878694Z",
     "shell.execute_reply": "2023-11-10T06:15:12.876591Z"
    },
    "papermill": {
     "duration": 2.89606,
     "end_time": "2023-11-10T06:15:12.882174",
     "exception": false,
     "start_time": "2023-11-10T06:15:09.986114",
     "status": "completed"
    },
    "tags": []
   },
   "outputs": [
    {
     "name": "stdout",
     "output_type": "stream",
     "text": [
      "/kaggle/input/house-prices-advanced-regression-techniques/sample_submission.csv\n",
      "/kaggle/input/house-prices-advanced-regression-techniques/data_description.txt\n",
      "/kaggle/input/house-prices-advanced-regression-techniques/train.csv\n",
      "/kaggle/input/house-prices-advanced-regression-techniques/test.csv\n"
     ]
    }
   ],
   "source": [
    "# This Python 3 environment comes with many helpful analytics libraries installed\n",
    "# It is defined by the kaggle/python Docker image: https://github.com/kaggle/docker-python\n",
    "# For example, here's several helpful packages to load\n",
    "\n",
    "import numpy as np # linear algebra\n",
    "import pandas as pd # data processing, CSV file I/O (e.g. pd.read_csv)\n",
    "import matplotlib.pyplot as plt\n",
    "from sklearn.linear_model import SGDRegressor\n",
    "from sklearn.preprocessing import StandardScaler\n",
    "from sklearn.preprocessing import PolynomialFeatures\n",
    "from sklearn.model_selection import train_test_split\n",
    "import math\n",
    "\n",
    "# Input data files are available in the read-only \"../input/\" directory\n",
    "# For example, running this (by clicking run or pressing Shift+Enter) will list all files under the input directory\n",
    "\n",
    "import os\n",
    "for dirname, _, filenames in os.walk('/kaggle/input'):\n",
    "    for filename in filenames:\n",
    "        print(os.path.join(dirname, filename))\n",
    "\n",
    "# You can write up to 20GB to the current directory (/kaggle/working/) that gets preserved as output when you create a version using \"Save & Run All\" \n",
    "# You can also write temporary files to /kaggle/temp/, but they won't be saved outside of the current session"
   ]
  },
  {
   "cell_type": "code",
   "execution_count": 2,
   "id": "4ed566ef",
   "metadata": {
    "execution": {
     "iopub.execute_input": "2023-11-10T06:15:12.901104Z",
     "iopub.status.busy": "2023-11-10T06:15:12.899880Z",
     "iopub.status.idle": "2023-11-10T06:15:13.004020Z",
     "shell.execute_reply": "2023-11-10T06:15:13.001535Z"
    },
    "papermill": {
     "duration": 0.117754,
     "end_time": "2023-11-10T06:15:13.008706",
     "exception": false,
     "start_time": "2023-11-10T06:15:12.890952",
     "status": "completed"
    },
    "tags": []
   },
   "outputs": [],
   "source": [
    "train_data = pd.read_csv(\"/kaggle/input/house-prices-advanced-regression-techniques/train.csv\")\n",
    "test_data = pd.read_csv(\"/kaggle/input/house-prices-advanced-regression-techniques/test.csv\")"
   ]
  },
  {
   "cell_type": "code",
   "execution_count": 3,
   "id": "0fd2bd33",
   "metadata": {
    "execution": {
     "iopub.execute_input": "2023-11-10T06:15:13.026880Z",
     "iopub.status.busy": "2023-11-10T06:15:13.025360Z",
     "iopub.status.idle": "2023-11-10T06:15:13.033741Z",
     "shell.execute_reply": "2023-11-10T06:15:13.032163Z"
    },
    "papermill": {
     "duration": 0.020314,
     "end_time": "2023-11-10T06:15:13.036347",
     "exception": false,
     "start_time": "2023-11-10T06:15:13.016033",
     "status": "completed"
    },
    "tags": []
   },
   "outputs": [
    {
     "name": "stdout",
     "output_type": "stream",
     "text": [
      "Number of Houses are: 1460 and the number of features for each house are 81\n"
     ]
    }
   ],
   "source": [
    "# print(train_data.columns)\n",
    "m,n = train_data.shape\n",
    "print(f\"Number of Houses are: {m} and the number of features for each house are {n}\")"
   ]
  },
  {
   "cell_type": "code",
   "execution_count": 4,
   "id": "095d8864",
   "metadata": {
    "execution": {
     "iopub.execute_input": "2023-11-10T06:15:13.052513Z",
     "iopub.status.busy": "2023-11-10T06:15:13.051706Z",
     "iopub.status.idle": "2023-11-10T06:15:13.315657Z",
     "shell.execute_reply": "2023-11-10T06:15:13.314189Z"
    },
    "papermill": {
     "duration": 0.27643,
     "end_time": "2023-11-10T06:15:13.319456",
     "exception": false,
     "start_time": "2023-11-10T06:15:13.043026",
     "status": "completed"
    },
    "tags": []
   },
   "outputs": [],
   "source": [
    "# Categorical Data to Numeric data for Regression\n",
    "train_data[\"Alley\"] = train_data[\"Alley\"].fillna(\"NA\")\n",
    "train_data[\"BsmtQual\"] = train_data[\"BsmtQual\"].fillna(\"NA\")\n",
    "train_data[\"BsmtCond\"] = train_data[\"BsmtCond\"].fillna(\"NA\")\n",
    "train_data[\"BsmtExposure\"] = train_data[\"BsmtExposure\"].fillna(\"NA\")\n",
    "train_data[\"BsmtFinType1\"] = train_data[\"BsmtFinType1\"].fillna(\"NA\")\n",
    "train_data[\"Electrical\"] = train_data[\"Electrical\"].fillna(\"NA\")\n",
    "train_data[\"FireplaceQu\"] = train_data[\"FireplaceQu\"].fillna(\"NA\")\n",
    "train_data[\"GarageType\"] = train_data[\"GarageType\"].fillna(\"NA\")\n",
    "Replacement_nums = {\"MSZoning\": {\"A\": 0,\"I\": 0,\"RP\": 0,\"C (all)\": 1,\"RM\": 2,\"RH\": 3,\"RL\": 4,\"FV\": 5},\n",
    "                    \"Alley\" : {\"Grvl\": 0,\"Pave\": 0,\"NA\": 1},\n",
    "                    \"Street\": {'Pave':0, 'Grvl':1},\n",
    "                    \"LandSlope\": {\"Gtl\": 1,\"Mod\": 2,\"Sev\": 3},\n",
    "                    \"BldgType\" : {\"1Fam\": 1,\"2FmCon\": 0,\"Duplx\": 0, \"TwnhsE\": 0,\"TwnhsI\": 0},\n",
    "                    \"RoofStyle\": {\"Gable\": 1,\"Hip\": 1,\"Gambrel\": 0, \"Mansard\": 0,\"Flat\": 0, \"Shed\": 0},\n",
    "                    \"HouseStyle\": {'2Story': 0, '1Story': 0, '1.5Fin': 0, '1.5Unf': 1, 'SFoyer':0, 'SLvl':0, '2.5Unf':0,'2.5Fin':0},\n",
    "                    \"RoofMatl\": {'CompShg':0, 'WdShngl':1, 'Metal':0, 'WdShake':0, 'Membran':0, 'Tar&Grv':0,'Roll':0, 'ClyTile':0},\n",
    "                    \"ExterQual\": {'Gd':3, 'TA':2, 'Ex': 4, 'Fa': 1, 'Po':0},\n",
    "                    \"Foundation\": {'PConc':3, 'CBlock':2, 'BrkTil':2, 'Wood':2, 'Slab':1, 'Stone':2},\n",
    "                    \"BsmtQual\":{'Gd':1 , 'TA':1 , 'Ex':2 , 'NA':0 , 'Fa':0 },\n",
    "                    \"BsmtCond\": {'TA':2, 'Gd':2, 'NA':0, 'Fa':1, 'Po':0, 'Ex':3},\n",
    "                    \"BsmtExposure\": {'No':0, 'Gd':2, 'Mn':1, 'Av':2, 'NA':0},\n",
    "                    \"BsmtFinType1\": {'GLQ':1, 'ALQ':0, 'Unf':0, 'Rec':0, 'BLQ':0, 'NA':0, 'LwQ':0},\n",
    "                    \"Heating\" : {'GasA':0, 'GasW':0, 'Grav':1, 'Wall':1, 'OthW':1, 'Floor':1},\n",
    "                    \"HeatingQC\": {'Ex':3, 'Gd':2, 'TA':2, 'Fa':1, 'Po':0},\n",
    "                    \"CentralAir\": {'Y':1, 'N':0},\n",
    "                    \"Electrical\": {'SBrkr':0, 'FuseF':1, 'FuseA':1, 'FuseP':1, 'Mix':1, 'NA':1},\n",
    "                    \"KitchenQual\": {'Gd':3, 'TA':2, 'Ex':4, 'Fa':1, 'Po':1},\n",
    "                    \"FireplaceQu\": {'NA':1, 'TA':3, 'Gd':3, 'Fa':2, 'Ex':4, 'Po':1},\n",
    "                    \"GarageType\": {'Attchd':1, 'Detchd':0, 'BuiltIn':1, 'CarPort': -1, 'NA': -1, 'Basment':0,'2Types':0},\n",
    "                    \"PavedDrive\": {'Y':2, 'N':0, 'P':1},\n",
    "                    \"SaleCondition\": {'Normal':3, 'Abnorml':2, 'Partial':4, 'AdjLand':1, 'Alloca':2, 'Family':2},\n",
    "                                                   }\n",
    "train_data = train_data.replace(Replacement_nums)\n",
    "test_data = test_data.replace(Replacement_nums)"
   ]
  },
  {
   "cell_type": "code",
   "execution_count": 5,
   "id": "d43408cb",
   "metadata": {
    "execution": {
     "iopub.execute_input": "2023-11-10T06:15:13.334674Z",
     "iopub.status.busy": "2023-11-10T06:15:13.334232Z",
     "iopub.status.idle": "2023-11-10T06:15:13.409052Z",
     "shell.execute_reply": "2023-11-10T06:15:13.407696Z"
    },
    "papermill": {
     "duration": 0.086263,
     "end_time": "2023-11-10T06:15:13.412361",
     "exception": false,
     "start_time": "2023-11-10T06:15:13.326098",
     "status": "completed"
    },
    "tags": []
   },
   "outputs": [],
   "source": [
    "train_data_int = train_data.select_dtypes(include=['int64','float']) \n",
    "TDI_Corr_SalePrice = train_data_int.corr()[\"SalePrice\"].round(decimals=2).to_numpy()\n",
    "TDI_Corr_Name = train_data_int.columns.to_numpy()\n",
    "\n",
    "#Handling nan values\n",
    "nan_values = dict(train_data_int.mean())\n",
    "train_data_int = train_data_int.fillna(value=nan_values)\n",
    "#train_data_int = train_data_int.fillna(value=1)\n",
    "\n",
    "#Preprocess Test data\n",
    "test_data_int = test_data.select_dtypes(include=['int64','float']) \n",
    "test_data_int = test_data_int.fillna(value=nan_values)"
   ]
  },
  {
   "cell_type": "code",
   "execution_count": 6,
   "id": "07fe9ddb",
   "metadata": {
    "execution": {
     "iopub.execute_input": "2023-11-10T06:15:13.428461Z",
     "iopub.status.busy": "2023-11-10T06:15:13.428016Z",
     "iopub.status.idle": "2023-11-10T06:15:13.473999Z",
     "shell.execute_reply": "2023-11-10T06:15:13.472827Z"
    },
    "papermill": {
     "duration": 0.058894,
     "end_time": "2023-11-10T06:15:13.477646",
     "exception": false,
     "start_time": "2023-11-10T06:15:13.418752",
     "status": "completed"
    },
    "tags": []
   },
   "outputs": [
    {
     "name": "stdout",
     "output_type": "stream",
     "text": [
      "Correlation less than 0.1 for Id : -0.02\n",
      "Item Delted: Id\n",
      "Correlation less than 0.1 for MSSubClass : -0.08\n",
      "Item Delted: MSSubClass\n",
      "Correlation less than 0.1 for Street : -0.04\n",
      "Item Delted: Street\n",
      "Correlation less than 0.1 for LandSlope : 0.05\n",
      "Item Delted: LandSlope\n",
      "Correlation less than 0.1 for HouseStyle : -0.09\n",
      "Item Delted: HouseStyle\n",
      "Correlation less than 0.1 for OverallCond : -0.08\n",
      "Item Delted: OverallCond\n",
      "Correlation less than 0.1 for RoofStyle : 0.01\n",
      "Item Delted: RoofStyle\n",
      "Correlation less than 0.1 for BsmtFinSF2 : -0.01\n",
      "Item Delted: BsmtFinSF2\n",
      "Correlation less than 0.1 for LowQualFinSF : -0.03\n",
      "Item Delted: LowQualFinSF\n",
      "Correlation less than 0.1 for BsmtHalfBath : -0.02\n",
      "Item Delted: BsmtHalfBath\n",
      "Correlation less than 0.1 for 3SsnPorch : 0.04\n",
      "Item Delted: 3SsnPorch\n",
      "Correlation less than 0.1 for PoolArea : 0.09\n",
      "Item Delted: PoolArea\n",
      "Correlation less than 0.1 for MiscVal : -0.02\n",
      "Item Delted: MiscVal\n",
      "Correlation less than 0.1 for MoSold : 0.05\n",
      "Item Delted: MoSold\n",
      "Correlation less than 0.1 for YrSold : -0.03\n",
      "Item Delted: YrSold\n"
     ]
    }
   ],
   "source": [
    "# Selecting the columns based on Pearsson Correlation\n",
    "for index,name in enumerate(TDI_Corr_Name):\n",
    "    if abs(TDI_Corr_SalePrice[index]) < 0.1:\n",
    "        print(f\"Correlation less than 0.1 for {TDI_Corr_Name[index]} : {TDI_Corr_SalePrice[index]}\")\n",
    "        for item in list(train_data_int.columns):\n",
    "            if TDI_Corr_Name[index] == item:\n",
    "                print(f\"Item Delted: {item}\")\n",
    "                del train_data_int[TDI_Corr_Name[index]]\n",
    "                del test_data_int[TDI_Corr_Name[index]]\n",
    "\n",
    "x_train_SGD_LR = train_data_int.iloc[:,0:train_data_int.shape[1]-1].to_numpy()\n",
    "y_train_SGD_LR = train_data_int.iloc[:,train_data_int.shape[1]-1:train_data_int.shape[1]].to_numpy()\n",
    "\n",
    "x_test_SGD_LR = test_data_int.iloc[:,:].to_numpy()"
   ]
  },
  {
   "cell_type": "code",
   "execution_count": null,
   "id": "33cc0469",
   "metadata": {
    "papermill": {
     "duration": 0.00619,
     "end_time": "2023-11-10T06:15:13.491449",
     "exception": false,
     "start_time": "2023-11-10T06:15:13.485259",
     "status": "completed"
    },
    "tags": []
   },
   "outputs": [],
   "source": []
  },
  {
   "cell_type": "code",
   "execution_count": 7,
   "id": "6fe93cf9",
   "metadata": {
    "execution": {
     "iopub.execute_input": "2023-11-10T06:15:13.508328Z",
     "iopub.status.busy": "2023-11-10T06:15:13.507049Z",
     "iopub.status.idle": "2023-11-10T06:15:13.512786Z",
     "shell.execute_reply": "2023-11-10T06:15:13.511816Z"
    },
    "papermill": {
     "duration": 0.017026,
     "end_time": "2023-11-10T06:15:13.515765",
     "exception": false,
     "start_time": "2023-11-10T06:15:13.498739",
     "status": "completed"
    },
    "tags": []
   },
   "outputs": [],
   "source": [
    "# Splitting into train & test\n",
    "# x_train, x_test, y_train, y_test = train_test_split(x_train_SGD_LR,y_train_SGD_LR, test_size= 0.01, random_state=1)\n",
    "\n",
    "# Same test and train \n",
    "x_train = x_train_SGD_LR\n",
    "x_test = x_train_SGD_LR\n",
    "y_train = y_train_SGD_LR\n",
    "y_test = y_train_SGD_LR"
   ]
  },
  {
   "cell_type": "code",
   "execution_count": 8,
   "id": "6b325aa6",
   "metadata": {
    "execution": {
     "iopub.execute_input": "2023-11-10T06:15:13.531585Z",
     "iopub.status.busy": "2023-11-10T06:15:13.530433Z",
     "iopub.status.idle": "2023-11-10T06:15:16.759098Z",
     "shell.execute_reply": "2023-11-10T06:15:16.757174Z"
    },
    "papermill": {
     "duration": 3.243366,
     "end_time": "2023-11-10T06:15:16.765620",
     "exception": false,
     "start_time": "2023-11-10T06:15:13.522254",
     "status": "completed"
    },
    "tags": []
   },
   "outputs": [
    {
     "name": "stdout",
     "output_type": "stream",
     "text": [
      "Model got trained in iterations: 140\n",
      "Shape of weights: (44,) and intercept: [180623.35277234]\n",
      "The RMSE of log2 of values on training data for degree of polynomial:1 is: 0.46296375029623493\n",
      "The RMSE of log2 of values on testing data for degree of polynomial:1 is: 0.46296375029623493\n",
      "Model got trained in iterations: 107\n",
      "Shape of weights: (1034,) and intercept: [180003.8577432]\n",
      "The RMSE of log2 of values on training data for degree of polynomial:2 is: 0.16158207551478107\n",
      "The RMSE of log2 of values on testing data for degree of polynomial:2 is: 0.16158207551478107\n",
      "Model got trained in iterations: 6\n",
      "Shape of weights: (16214,) and intercept: [-6.45801181e+08]\n",
      "The RMSE of log2 of values on training data for degree of polynomial:3 is: 18.116444948167892\n",
      "The RMSE of log2 of values on testing data for degree of polynomial:3 is: 18.116444948167892\n",
      "Degree of polynomial that should be used is: 2\n"
     ]
    }
   ],
   "source": [
    "scalers = []\n",
    "models = []\n",
    "test_error = []\n",
    "for degree in range(1,4):\n",
    "    poly = PolynomialFeatures(degree, include_bias=False)\n",
    "    x_train_poly = poly.fit_transform(x_train)\n",
    "    x_test_poly = poly.transform(x_test)\n",
    "    \n",
    "    scaler = StandardScaler()\n",
    "    x_train_poly_Norm = scaler.fit_transform(x_train_poly)\n",
    "    x_test_poly_Norm = scaler.transform(x_test_poly)\n",
    "    scalers.append(scaler)\n",
    "    \n",
    "    sgdr = SGDRegressor(max_iter=1000,alpha=0.0,eta0=0.0005)\n",
    "    sgdr.fit(x_train_poly_Norm,y_train.reshape(-1))\n",
    "    print(f\"Model got trained in iterations: {sgdr.n_iter_}\")\n",
    "    print(f\"Shape of weights: {sgdr.coef_.shape} and intercept: {sgdr.intercept_}\")\n",
    "    models.append(sgdr)\n",
    "    \n",
    "    #Here we are using reLu function\n",
    "    yhat_train = sgdr.predict(x_train_poly_Norm)\n",
    "    #yhat_train = np.where(yhat_train >= 0,yhat_train,nan_values[\"SalePrice\"])\n",
    "    yhat_train = np.where(yhat_train >= 0,yhat_train,1)\n",
    "    yhat_test = sgdr.predict(x_test_poly_Norm)\n",
    "    #yhat_test = np.where(yhat_test >= 0,yhat_test,nan_values[\"SalePrice\"])\n",
    "    yhat_test = np.where(yhat_test >= 0,yhat_test,1)\n",
    "    \n",
    "    RMSE_log2_train = math.sqrt(((np.log2(y_train) - np.log2(yhat_train.reshape(-1,1)))**2).sum()/len(y_train))\n",
    "    print(f\"The RMSE of log2 of values on training data for degree of polynomial:{degree} is: {RMSE_log2_train}\")\n",
    "    RMSE_log2_test = math.sqrt(((np.log2(y_test) - np.log2(yhat_test.reshape(-1,1)))**2).sum()/len(y_test))\n",
    "    print(f\"The RMSE of log2 of values on testing data for degree of polynomial:{degree} is: {RMSE_log2_test}\")\n",
    "    test_error.append(RMSE_log2_test)\n",
    "print(f\"Degree of polynomial that should be used is: {np.argmin(test_error)+1}\")\n",
    "Model_Degree = np.argmin(test_error)+1"
   ]
  },
  {
   "cell_type": "code",
   "execution_count": 9,
   "id": "f3a70697",
   "metadata": {
    "execution": {
     "iopub.execute_input": "2023-11-10T06:15:16.798865Z",
     "iopub.status.busy": "2023-11-10T06:15:16.798032Z",
     "iopub.status.idle": "2023-11-10T06:15:17.305094Z",
     "shell.execute_reply": "2023-11-10T06:15:17.303411Z"
    },
    "papermill": {
     "duration": 0.527084,
     "end_time": "2023-11-10T06:15:17.308103",
     "exception": false,
     "start_time": "2023-11-10T06:15:16.781019",
     "status": "completed"
    },
    "tags": []
   },
   "outputs": [
    {
     "name": "stdout",
     "output_type": "stream",
     "text": [
      "The RMSE of log2 of values on training data for degree of polynomial:3 is: 0.16158207551478107\n"
     ]
    },
    {
     "data": {
      "image/png": "[encoded data removed]",
      "text/plain": [
       "<Figure size 640x480 with 1 Axes>"
      ]
     },
     "metadata": {},
     "output_type": "display_data"
    }
   ],
   "source": [
    "# Predicting values with optimum model \n",
    "poly = PolynomialFeatures(Model_Degree,include_bias=False)\n",
    "x_train_poly = poly.fit_transform(x_train)\n",
    "x_train_poly_Norm = scalers[Model_Degree-1].fit_transform(x_train_poly)\n",
    "\n",
    "x_test_poly = poly.transform(x_test_SGD_LR)\n",
    "x_test_poly_Norm = scalers[Model_Degree-1].transform(x_test_poly)\n",
    "\n",
    "\n",
    "yhat_train = models[Model_Degree-1].predict(x_train_poly_Norm)\n",
    "yhat_train = np.where(yhat_train >= 0,yhat_train,1)\n",
    "\n",
    "yhat_test = models[Model_Degree-1].predict(x_test_poly_Norm)\n",
    "yhat_test = np.where(yhat_test >= 0,yhat_test,1)\n",
    "\n",
    "RMSE_log2_train = math.sqrt(((np.log2(y_train) - np.log2(yhat_train.reshape(-1,1)))**2).sum()/len(y_train))\n",
    "print(f\"The RMSE of log2 of values on training data for degree of polynomial:{degree} is: {RMSE_log2_train}\")\n",
    "\n",
    "plt.scatter(y_train,yhat_train)\n",
    "plt.show()"
   ]
  },
  {
   "cell_type": "code",
   "execution_count": null,
   "id": "21b2d2c9",
   "metadata": {
    "papermill": {
     "duration": 0.007306,
     "end_time": "2023-11-10T06:15:17.322949",
     "exception": false,
     "start_time": "2023-11-10T06:15:17.315643",
     "status": "completed"
    },
    "tags": []
   },
   "outputs": [],
   "source": []
  },
  {
   "cell_type": "code",
   "execution_count": 10,
   "id": "31de0c4d",
   "metadata": {
    "execution": {
     "iopub.execute_input": "2023-11-10T06:15:17.340160Z",
     "iopub.status.busy": "2023-11-10T06:15:17.339665Z",
     "iopub.status.idle": "2023-11-10T06:15:17.345131Z",
     "shell.execute_reply": "2023-11-10T06:15:17.344133Z"
    },
    "papermill": {
     "duration": 0.017012,
     "end_time": "2023-11-10T06:15:17.347520",
     "exception": false,
     "start_time": "2023-11-10T06:15:17.330508",
     "status": "completed"
    },
    "tags": []
   },
   "outputs": [],
   "source": [
    "#May be : Fence, Functional, ExterCond, Neighborhood, LandContour, LotShape, Condition1, Condition2, \n",
    "#Drop: PoolQC, Utilities,BsmtFinType2, LotConfig, Exterior1st, MasVnrType  , GarageCond\n",
    "# train_data[\"MiscFeature\"] = train_data[\"MiscFeature\"].fillna(\"NA\")\n",
    "# feature = \"Street\"\n",
    "# plt.scatter(train_data[feature],train_data[\"SalePrice\"])\n",
    "# plt.show()\n",
    "# print(train_data[feature].value_counts())\n",
    "# for item in train_data[feature].unique():\n",
    "#     print(f\"Mean of item: {item} is equal:\" + str(train_data[train_data[feature] == item][\"SalePrice\"].mean()) + \"Std. Dev: \" + str(train_data[train_data[feature] == item][\"SalePrice\"].std()))"
   ]
  },
  {
   "cell_type": "code",
   "execution_count": 11,
   "id": "d1d18096",
   "metadata": {
    "execution": {
     "iopub.execute_input": "2023-11-10T06:15:17.365118Z",
     "iopub.status.busy": "2023-11-10T06:15:17.364326Z",
     "iopub.status.idle": "2023-11-10T06:15:17.369607Z",
     "shell.execute_reply": "2023-11-10T06:15:17.368618Z"
    },
    "papermill": {
     "duration": 0.017808,
     "end_time": "2023-11-10T06:15:17.372967",
     "exception": false,
     "start_time": "2023-11-10T06:15:17.355159",
     "status": "completed"
    },
    "tags": []
   },
   "outputs": [],
   "source": [
    "ID = test_data[\"Id\"]"
   ]
  },
  {
   "cell_type": "code",
   "execution_count": 12,
   "id": "1a30beab",
   "metadata": {
    "execution": {
     "iopub.execute_input": "2023-11-10T06:15:17.391265Z",
     "iopub.status.busy": "2023-11-10T06:15:17.390700Z",
     "iopub.status.idle": "2023-11-10T06:15:17.416311Z",
     "shell.execute_reply": "2023-11-10T06:15:17.414314Z"
    },
    "papermill": {
     "duration": 0.039105,
     "end_time": "2023-11-10T06:15:17.419464",
     "exception": false,
     "start_time": "2023-11-10T06:15:17.380359",
     "status": "completed"
    },
    "tags": []
   },
   "outputs": [
    {
     "name": "stdout",
     "output_type": "stream",
     "text": [
      "        Id      SalePrice\n",
      "0     1461  118473.417240\n",
      "1     1462  160101.310268\n",
      "2     1463  175712.130375\n",
      "3     1464  184267.489305\n",
      "4     1465  194182.356370\n",
      "...    ...            ...\n",
      "1454  2915   70831.451805\n",
      "1455  2916   76239.279858\n",
      "1456  2917  130349.446184\n",
      "1457  2918  113413.740210\n",
      "1458  2919  240399.814188\n",
      "\n",
      "[1459 rows x 2 columns]\n"
     ]
    }
   ],
   "source": [
    "data = {\"Id\":list(ID), \"SalePrice\":list(yhat_test)}\n",
    "Result = pd.DataFrame(data)\n",
    "Result.to_csv('submission.csv',index=False)\n",
    "print(Result)"
   ]
  },
  {
   "cell_type": "code",
   "execution_count": 13,
   "id": "f14574b7",
   "metadata": {
    "execution": {
     "iopub.execute_input": "2023-11-10T06:15:17.436682Z",
     "iopub.status.busy": "2023-11-10T06:15:17.436241Z",
     "iopub.status.idle": "2023-11-10T06:15:17.453616Z",
     "shell.execute_reply": "2023-11-10T06:15:17.452600Z"
    },
    "papermill": {
     "duration": 0.028842,
     "end_time": "2023-11-10T06:15:17.456108",
     "exception": false,
     "start_time": "2023-11-10T06:15:17.427266",
     "status": "completed"
    },
    "tags": []
   },
   "outputs": [
    {
     "data": {
      "text/html": [
       "<div>\n",
       "<style scoped>\n",
       "    .dataframe tbody tr th:only-of-type {\n",
       "        vertical-align: middle;\n",
       "    }\n",
       "\n",
       "    .dataframe tbody tr th {\n",
       "        vertical-align: top;\n",
       "    }\n",
       "\n",
       "    .dataframe thead th {\n",
       "        text-align: right;\n",
       "    }\n",
       "</style>\n",
       "<table border=\"1\" class=\"dataframe\">\n",
       "  <thead>\n",
       "    <tr style=\"text-align: right;\">\n",
       "      <th></th>\n",
       "      <th>Id</th>\n",
       "      <th>SalePrice</th>\n",
       "    </tr>\n",
       "  </thead>\n",
       "  <tbody>\n",
       "    <tr>\n",
       "      <th>0</th>\n",
       "      <td>1461</td>\n",
       "      <td>118473.417240</td>\n",
       "    </tr>\n",
       "    <tr>\n",
       "      <th>1</th>\n",
       "      <td>1462</td>\n",
       "      <td>160101.310268</td>\n",
       "    </tr>\n",
       "    <tr>\n",
       "      <th>2</th>\n",
       "      <td>1463</td>\n",
       "      <td>175712.130375</td>\n",
       "    </tr>\n",
       "    <tr>\n",
       "      <th>3</th>\n",
       "      <td>1464</td>\n",
       "      <td>184267.489305</td>\n",
       "    </tr>\n",
       "    <tr>\n",
       "      <th>4</th>\n",
       "      <td>1465</td>\n",
       "      <td>194182.356370</td>\n",
       "    </tr>\n",
       "    <tr>\n",
       "      <th>...</th>\n",
       "      <td>...</td>\n",
       "      <td>...</td>\n",
       "    </tr>\n",
       "    <tr>\n",
       "      <th>1454</th>\n",
       "      <td>2915</td>\n",
       "      <td>70831.451805</td>\n",
       "    </tr>\n",
       "    <tr>\n",
       "      <th>1455</th>\n",
       "      <td>2916</td>\n",
       "      <td>76239.279858</td>\n",
       "    </tr>\n",
       "    <tr>\n",
       "      <th>1456</th>\n",
       "      <td>2917</td>\n",
       "      <td>130349.446184</td>\n",
       "    </tr>\n",
       "    <tr>\n",
       "      <th>1457</th>\n",
       "      <td>2918</td>\n",
       "      <td>113413.740210</td>\n",
       "    </tr>\n",
       "    <tr>\n",
       "      <th>1458</th>\n",
       "      <td>2919</td>\n",
       "      <td>240399.814188</td>\n",
       "    </tr>\n",
       "  </tbody>\n",
       "</table>\n",
       "<p>1459 rows × 2 columns</p>\n",
       "</div>"
      ],
      "text/plain": [
       "        Id      SalePrice\n",
       "0     1461  118473.417240\n",
       "1     1462  160101.310268\n",
       "2     1463  175712.130375\n",
       "3     1464  184267.489305\n",
       "4     1465  194182.356370\n",
       "...    ...            ...\n",
       "1454  2915   70831.451805\n",
       "1455  2916   76239.279858\n",
       "1456  2917  130349.446184\n",
       "1457  2918  113413.740210\n",
       "1458  2919  240399.814188\n",
       "\n",
       "[1459 rows x 2 columns]"
      ]
     },
     "execution_count": 13,
     "metadata": {},
     "output_type": "execute_result"
    }
   ],
   "source": [
    "Result"
   ]
  },
  {
   "cell_type": "code",
   "execution_count": null,
   "id": "bcfbbd86",
   "metadata": {
    "papermill": {
     "duration": 0.00734,
     "end_time": "2023-11-10T06:15:17.471309",
     "exception": false,
     "start_time": "2023-11-10T06:15:17.463969",
     "status": "completed"
    },
    "tags": []
   },
   "outputs": [],
   "source": []
  }
 ],
 "metadata": {
  "kernelspec": {
   "display_name": "Python 3",
   "language": "python",
   "name": "python3"
  },
  "language_info": {
   "codemirror_mode": {
    "name": "ipython",
    "version": 3
   },
   "file_extension": ".py",
   "mimetype": "text/x-python",
   "name": "python",
   "nbconvert_exporter": "python",
   "pygments_lexer": "ipython3",
   "version": "3.10.12"
  },
  "papermill": {
   "default_parameters": {},
   "duration": 13.025691,
   "end_time": "2023-11-10T06:15:18.203287",
   "environment_variables": {},
   "exception": null,
   "input_path": "__notebook__.ipynb",
   "output_path": "__notebook__.ipynb",
   "parameters": {},
   "start_time": "2023-11-10T06:15:05.177596",
   "version": "2.4.0"
  }
 },
 "nbformat": 4,
 "nbformat_minor": 5
}
